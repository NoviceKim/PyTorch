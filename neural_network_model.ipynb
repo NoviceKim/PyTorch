{
 "cells": [
  {
   "cell_type": "markdown",
   "metadata": {},
   "source": [
    "## Composing the Neural Network Model\n",
    "\n",
    "- A Neural Network consists of layers and modules that perform operations on the data.\n",
    "- All modules in PyTorch are the subclass of `nn.Module`.\n",
    "- A Neural Network is the module composed of different modules.\n",
    "- Superimposed structures like these make it easy to bulid and manage complex architectures."
   ]
  },
  {
   "cell_type": "code",
   "execution_count": 1,
   "metadata": {},
   "outputs": [],
   "source": [
    "import os\n",
    "import torch\n",
    "from torch import nn\n",
    "from torch.utils.data import dataloader\n",
    "from torchvision import datasets, transforms "
   ]
  },
  {
   "cell_type": "code",
   "execution_count": 2,
   "metadata": {},
   "outputs": [
    {
     "name": "stdout",
     "output_type": "stream",
     "text": [
      "Using cuda device for learning.\n"
     ]
    }
   ],
   "source": [
    "# Gets device for learning.\n",
    "device = (\"cuda\" if torch.cuda.is_available()\n",
    "          else \"mps\" if torch.backends.mps.is_available()\n",
    "          else \"cpu\")\n",
    "\n",
    "print(f\"Using {device} device for learning.\")"
   ]
  },
  {
   "cell_type": "markdown",
   "metadata": {},
   "source": [
    "### Define the Class\n",
    "- Define the Neural Network Model as the subclass of `nn.Module` and initialize all layers at `__init__`.\n",
    "- All of the classes that inherit `nn.Module` implement operations on the input data in the `forward` method."
   ]
  },
  {
   "cell_type": "code",
   "execution_count": 3,
   "metadata": {},
   "outputs": [],
   "source": [
    "class NeuralNetwork(nn.Module):\n",
    "    def __init__(self):\n",
    "        super().__init__()\n",
    "\n",
    "        self.flatten = nn.Flatten()\n",
    "        self.linear_relu_stack = nn.Sequential(\n",
    "            nn.Linear(28*28, 512),\n",
    "            nn.ReLU(),\n",
    "            nn.Linear(512, 512),\n",
    "            nn.ReLU(),\n",
    "            nn.Linear(512, 18),\n",
    "        )\n",
    "\n",
    "    def forward(self, x):\n",
    "        x = self.flatten(x)\n",
    "        logits = self.linear_relu_stack(x)\n",
    "        return logits"
   ]
  },
  {
   "cell_type": "code",
   "execution_count": 4,
   "metadata": {},
   "outputs": [
    {
     "name": "stdout",
     "output_type": "stream",
     "text": [
      "NeuralNetwork(\n",
      "  (flatten): Flatten(start_dim=1, end_dim=-1)\n",
      "  (linear_relu_stack): Sequential(\n",
      "    (0): Linear(in_features=784, out_features=512, bias=True)\n",
      "    (1): ReLU()\n",
      "    (2): Linear(in_features=512, out_features=512, bias=True)\n",
      "    (3): ReLU()\n",
      "    (4): Linear(in_features=512, out_features=18, bias=True)\n",
      "  )\n",
      ")\n"
     ]
    }
   ],
   "source": [
    "# Creates an instance of NeuralNetwork class, moves it to device and prints its layer structure.\n",
    "model = NeuralNetwork().to(device)\n",
    "print(model)"
   ]
  },
  {
   "cell_type": "code",
   "execution_count": 5,
   "metadata": {},
   "outputs": [
    {
     "name": "stdout",
     "output_type": "stream",
     "text": [
      "Predicted Class: tensor([8], device='cuda:0')\n"
     ]
    }
   ],
   "source": [
    "# Applies input data to use the model. It executes forward method with some background operations.\n",
    "# Note: DO NOT call the model.forward() method directly.\n",
    "X = torch.rand(1, 28, 28, device=device)\n",
    "\n",
    "logits = model(X)\n",
    "pred_proba = nn.Softmax(dim=1)(logits)\n",
    "y_pred = pred_proba.argmax(1)\n",
    "\n",
    "print(f\"Predicted Class: {y_pred}\")"
   ]
  },
  {
   "cell_type": "markdown",
   "metadata": {},
   "source": [
    "### The Layers of the Model"
   ]
  },
  {
   "cell_type": "code",
   "execution_count": 6,
   "metadata": {},
   "outputs": [
    {
     "name": "stdout",
     "output_type": "stream",
     "text": [
      "torch.Size([3, 28, 28])\n"
     ]
    }
   ],
   "source": [
    "input_image = torch.rand(3, 28, 28)\n",
    "print(input_image.size())"
   ]
  },
  {
   "cell_type": "markdown",
   "metadata": {},
   "source": [
    "#### nn.Flatten\n",
    "- Initialize the `nn.Flatten` layer to convert each 2D Image(28*28 size in example) into a contiguous array with a specific pixel value(784 in example).\n",
    "- Dimentions of mini batch(dim=0) will be kept."
   ]
  },
  {
   "cell_type": "code",
   "execution_count": 7,
   "metadata": {},
   "outputs": [
    {
     "name": "stdout",
     "output_type": "stream",
     "text": [
      "torch.Size([3, 784])\n"
     ]
    }
   ],
   "source": [
    "flatten = nn.Flatten()\n",
    "flat_image = flatten(input_image)\n",
    "\n",
    "print(flat_image.size())"
   ]
  },
  {
   "cell_type": "markdown",
   "metadata": {},
   "source": [
    "#### nn.Linear\n",
    "- Linear layer applies linear transformation to input with saved weight and bias."
   ]
  },
  {
   "cell_type": "code",
   "execution_count": 8,
   "metadata": {},
   "outputs": [
    {
     "name": "stdout",
     "output_type": "stream",
     "text": [
      "torch.Size([3, 20])\n"
     ]
    }
   ],
   "source": [
    "layer1 = nn.Linear(in_features=28*28, out_features=20)\n",
    "hidden1 = layer1(flat_image)\n",
    "\n",
    "print(hidden1.size())"
   ]
  },
  {
   "cell_type": "markdown",
   "metadata": {},
   "source": [
    "#### nn.ReLU\n",
    "- Nonlinear Activation makes a complex map between input and output of the model.\n",
    "- Nonlinear Activation is applied after Linear Transformation, introducing nonlinearity, and helps Newral Networks learn many different phenomena.\n",
    "- In this example, `nn.ReLU` is used between linear layers, but other activation functions with nonlinearity can also be introduced when creating the model."
   ]
  },
  {
   "cell_type": "code",
   "execution_count": 9,
   "metadata": {},
   "outputs": [
    {
     "name": "stdout",
     "output_type": "stream",
     "text": [
      "Before applying ReLU: tensor([[-0.2942,  0.2204, -0.1483,  0.5273, -0.4020,  0.3496, -0.7781, -0.4195,\n",
      "         -0.6320,  0.1857, -0.6648,  0.4757,  0.1968, -0.1052,  0.1250,  0.0185,\n",
      "         -0.4808, -0.0561,  0.2680, -0.2458],\n",
      "        [-0.2719,  0.4207, -0.2440,  0.4605,  0.0188,  0.3676, -0.6601, -0.0324,\n",
      "         -0.1287,  0.4999, -0.2973,  0.6089, -0.1022, -0.2541,  0.3667,  0.0437,\n",
      "         -0.3211, -0.0402,  0.4533,  0.0366],\n",
      "        [-0.6537,  0.0795,  0.3592,  0.3255,  0.1345,  0.0922, -0.7034, -0.2227,\n",
      "         -0.1431,  0.4892, -0.5470,  0.5832,  0.0438, -0.1328,  0.1814,  0.3746,\n",
      "         -0.4423,  0.0488,  0.1487, -0.0369]], grad_fn=<AddmmBackward0>)\n",
      "\n",
      "\n",
      "After applying ReLU: tensor([[0.0000, 0.2204, 0.0000, 0.5273, 0.0000, 0.3496, 0.0000, 0.0000, 0.0000,\n",
      "         0.1857, 0.0000, 0.4757, 0.1968, 0.0000, 0.1250, 0.0185, 0.0000, 0.0000,\n",
      "         0.2680, 0.0000],\n",
      "        [0.0000, 0.4207, 0.0000, 0.4605, 0.0188, 0.3676, 0.0000, 0.0000, 0.0000,\n",
      "         0.4999, 0.0000, 0.6089, 0.0000, 0.0000, 0.3667, 0.0437, 0.0000, 0.0000,\n",
      "         0.4533, 0.0366],\n",
      "        [0.0000, 0.0795, 0.3592, 0.3255, 0.1345, 0.0922, 0.0000, 0.0000, 0.0000,\n",
      "         0.4892, 0.0000, 0.5832, 0.0438, 0.0000, 0.1814, 0.3746, 0.0000, 0.0488,\n",
      "         0.1487, 0.0000]], grad_fn=<ReluBackward0>)\n"
     ]
    }
   ],
   "source": [
    "# ReLu activation function sets any input with a value less than 0 to 0.\n",
    "# If the input value is the same or greater than 0, it retains that value.\n",
    "print(f\"Before applying ReLU: {hidden1}\\n\\n\")\n",
    "\n",
    "hidden1 = nn.ReLU()(hidden1)\n",
    "print(f\"After applying ReLU: {hidden1}\")"
   ]
  },
  {
   "cell_type": "markdown",
   "metadata": {},
   "source": [
    "#### nn.Sequential\n",
    "- `nn.Sequential` is a container of modules with an order.\n",
    "- Data is transferred through all modules in the same order as defined.\n",
    "- With the Sequential Container, you can make Neural Networks like the example below quickly."
   ]
  },
  {
   "cell_type": "code",
   "execution_count": 10,
   "metadata": {},
   "outputs": [
    {
     "name": "stdout",
     "output_type": "stream",
     "text": [
      "tensor([[ 0.1585,  0.2785, -0.3719,  0.0063, -0.0454,  0.0622, -0.2120,  0.1918,\n",
      "          0.1283, -0.1359],\n",
      "        [ 0.1621,  0.2199, -0.3099,  0.0151, -0.0699,  0.0487, -0.2349,  0.1672,\n",
      "          0.0778, -0.1599],\n",
      "        [ 0.2185,  0.2299, -0.2581,  0.1749,  0.1395,  0.0176, -0.3048,  0.0776,\n",
      "          0.0659, -0.2537]], grad_fn=<AddmmBackward0>)\n"
     ]
    }
   ],
   "source": [
    "seq_modules = nn.Sequential(\n",
    "    flatten,\n",
    "    layer1,\n",
    "    nn.ReLU(),\n",
    "    nn.Linear(20, 10)\n",
    ")\n",
    "\n",
    "input_image = torch.rand(3, 28, 28)\n",
    "logits = seq_modules(input_image)\n",
    "\n",
    "print(logits)"
   ]
  },
  {
   "cell_type": "markdown",
   "metadata": {},
   "source": [
    "#### nn.Softmax\n",
    "- The last Linear layer of Neural Network returns logits(the raw value with -∞ ~ ∞ range) that will be transferred to `nn.Softmax` module.\n",
    "- The *logits* are scaled proportionally to the range between 0 and 1 to represent the predictive probability for each class of the model.\n",
    "- The `dim` parameter represents a dimension in which the sum of the values is 1."
   ]
  },
  {
   "cell_type": "code",
   "execution_count": 11,
   "metadata": {},
   "outputs": [
    {
     "name": "stdout",
     "output_type": "stream",
     "text": [
      "tensor([[0.1144, 0.1290, 0.0673, 0.0983, 0.0933, 0.1039, 0.0790, 0.1183, 0.1110,\n",
      "         0.0853],\n",
      "        [0.1169, 0.1239, 0.0729, 0.1009, 0.0927, 0.1044, 0.0786, 0.1175, 0.1075,\n",
      "         0.0847],\n",
      "        [0.1208, 0.1222, 0.0750, 0.1157, 0.1117, 0.0989, 0.0716, 0.1050, 0.1037,\n",
      "         0.0754]], grad_fn=<SoftmaxBackward0>)\n"
     ]
    }
   ],
   "source": [
    "# Softmax Activation function is used on the output layer of Neural Network that performs multiclass classification.\n",
    "# If your Neural Network performs binary classification, use Sigmoid Activation Function(nn.Sigmoid) instead.\n",
    "softmax = nn.Softmax(dim=1)\n",
    "pred_proba = softmax(logits)\n",
    "\n",
    "print(pred_proba)"
   ]
  },
  {
   "cell_type": "markdown",
   "metadata": {},
   "source": [
    "### Parameters of Model\n",
    "- Many layers inside of the Neural Network are parameterized. It means they are associated with weights and biases that are optimized during learning.\n",
    "- If your model inherits from `nn.Module`, all fields inside model object will be tracked automatically,  \n",
    "and allow you access to all parameters of model with `parameters()` and `named_parameters()` method."
   ]
  },
  {
   "cell_type": "code",
   "execution_count": 14,
   "metadata": {},
   "outputs": [
    {
     "name": "stdout",
     "output_type": "stream",
     "text": [
      "Model Structure: NeuralNetwork(\n",
      "  (flatten): Flatten(start_dim=1, end_dim=-1)\n",
      "  (linear_relu_stack): Sequential(\n",
      "    (0): Linear(in_features=784, out_features=512, bias=True)\n",
      "    (1): ReLU()\n",
      "    (2): Linear(in_features=512, out_features=512, bias=True)\n",
      "    (3): ReLU()\n",
      "    (4): Linear(in_features=512, out_features=18, bias=True)\n",
      "  )\n",
      ")\n",
      "\n",
      "\n",
      "Layer 1: linear_relu_stack.0.weight | Size: torch.Size([512, 784]) | Values: tensor([[-0.0336,  0.0056,  0.0234,  ...,  0.0083,  0.0025,  0.0262],\n",
      "        [ 0.0246,  0.0068, -0.0349,  ...,  0.0260, -0.0076,  0.0083]],\n",
      "       device='cuda:0', grad_fn=<SliceBackward0>)\n",
      "\n",
      "Layer 2: linear_relu_stack.0.bias | Size: torch.Size([512]) | Values: tensor([-0.0161,  0.0181], device='cuda:0', grad_fn=<SliceBackward0>)\n",
      "\n",
      "Layer 3: linear_relu_stack.2.weight | Size: torch.Size([512, 512]) | Values: tensor([[-0.0188, -0.0061,  0.0142,  ..., -0.0280, -0.0404,  0.0321],\n",
      "        [-0.0219,  0.0319,  0.0224,  ..., -0.0413, -0.0041, -0.0151]],\n",
      "       device='cuda:0', grad_fn=<SliceBackward0>)\n",
      "\n",
      "Layer 4: linear_relu_stack.2.bias | Size: torch.Size([512]) | Values: tensor([-0.0098, -0.0077], device='cuda:0', grad_fn=<SliceBackward0>)\n",
      "\n",
      "Layer 5: linear_relu_stack.4.weight | Size: torch.Size([18, 512]) | Values: tensor([[-0.0346, -0.0423, -0.0340,  ...,  0.0230, -0.0044, -0.0372],\n",
      "        [-0.0029, -0.0105,  0.0344,  ..., -0.0192,  0.0419,  0.0153]],\n",
      "       device='cuda:0', grad_fn=<SliceBackward0>)\n",
      "\n",
      "Layer 6: linear_relu_stack.4.bias | Size: torch.Size([18]) | Values: tensor([ 0.0266, -0.0001], device='cuda:0', grad_fn=<SliceBackward0>)\n",
      "\n"
     ]
    }
   ],
   "source": [
    "# Iterate all parameters of model and print their size and value.\n",
    "print(f\"Model Structure: {model}\\n\\n\")\n",
    "\n",
    "layer_num = 0\n",
    "\n",
    "for name, param in model.named_parameters():\n",
    "    layer_num += 1\n",
    "\n",
    "    print(f\"Layer {layer_num}: {name} | Size: {param.size()} | Values: {param[:2]}\\n\")"
   ]
  }
 ],
 "metadata": {
  "kernelspec": {
   "display_name": "pyenv312",
   "language": "python",
   "name": "python3"
  },
  "language_info": {
   "codemirror_mode": {
    "name": "ipython",
    "version": 3
   },
   "file_extension": ".py",
   "mimetype": "text/x-python",
   "name": "python",
   "nbconvert_exporter": "python",
   "pygments_lexer": "ipython3",
   "version": "3.12.4"
  }
 },
 "nbformat": 4,
 "nbformat_minor": 2
}
